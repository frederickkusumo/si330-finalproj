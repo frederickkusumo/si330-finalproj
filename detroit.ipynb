{
 "cells": [
  {
   "attachments": {},
   "cell_type": "markdown",
   "metadata": {},
   "source": [
    "**Detroit Crimes and Incidents**"
   ]
  },
  {
   "attachments": {},
   "cell_type": "markdown",
   "metadata": {},
   "source": [
    "1. Which zipcode has the highest 911 calls related to fire incidents? [Fire and 911 data]"
   ]
  },
  {
   "attachments": {},
   "cell_type": "markdown",
   "metadata": {},
   "source": [
    "2. Which zipcode has the highest 911 calls based on RMS incidents and reports the most common crime. [RMS and 911 data]"
   ]
  },
  {
   "attachments": {},
   "cell_type": "markdown",
   "metadata": {},
   "source": [
    "3. Overall which zipcode is the safest and dangerous [merging 3 datasets 911, fire, rms]"
   ]
  },
  {
   "attachments": {},
   "cell_type": "markdown",
   "metadata": {},
   "source": [
    "4. What are the top 5 most frequent crime offenses in Ann Arbor and in Detroit in 2022."
   ]
  },
  {
   "attachments": {},
   "cell_type": "markdown",
   "metadata": {},
   "source": [
    "5. Is there any correlation between Michigan weather and crime?"
   ]
  },
  {
   "attachments": {},
   "cell_type": "markdown",
   "metadata": {},
   "source": [
    "6. What is the percentage of incidents occurring based on the zipcode and population in it. [Census, fire, rms, 911]"
   ]
  },
  {
   "attachments": {},
   "cell_type": "markdown",
   "metadata": {},
   "source": [
    "7. Which area has the most demolition and trade permits? "
   ]
  },
  {
   "attachments": {},
   "cell_type": "markdown",
   "metadata": {},
   "source": [
    "8. Is there a correlation between the zipcode as well as the most common crime in the area? [rms, 911]"
   ]
  },
  {
   "attachments": {},
   "cell_type": "markdown",
   "metadata": {},
   "source": [
    "9. On which street name most  demolition and trade businesses are situated, is there  a business owner who owns more than 1 business at the same time. If yes where they are located."
   ]
  },
  {
   "attachments": {},
   "cell_type": "markdown",
   "metadata": {},
   "source": [
    "10. Is there a positive relationship between negative sentiment of call description and type of the offense? "
   ]
  },
  {
   "attachments": {},
   "cell_type": "markdown",
   "metadata": {},
   "source": [
    "11. Predict the likelihood of crime in certain neighborhoods in Detroit using linear regression models using different independent variables. "
   ]
  }
 ],
 "metadata": {
  "language_info": {
   "name": "python"
  },
  "orig_nbformat": 4
 },
 "nbformat": 4,
 "nbformat_minor": 2
}
